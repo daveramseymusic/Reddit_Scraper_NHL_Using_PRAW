{
 "metadata": {
  "language_info": {
   "codemirror_mode": {
    "name": "ipython",
    "version": 3
   },
   "file_extension": ".py",
   "mimetype": "text/x-python",
   "name": "python",
   "nbconvert_exporter": "python",
   "pygments_lexer": "ipython3",
   "version": "3.7.6-final"
  },
  "orig_nbformat": 2,
  "kernelspec": {
   "name": "python3",
   "display_name": "Python 3",
   "language": "python"
  }
 },
 "nbformat": 4,
 "nbformat_minor": 2,
 "cells": [
  {
   "source": [
    "# Reddit PRAW scraper for NHL Talk"
   ],
   "cell_type": "markdown",
   "metadata": {}
  },
  {
   "cell_type": "code",
   "execution_count": 14,
   "metadata": {},
   "outputs": [],
   "source": [
    "#import all the stuff\n",
    "import praw\n",
    "import pandas as pd\n",
    "import datetime as dt\n",
    "import config as c"
   ]
  },
  {
   "source": [
    "## Save all the praw codes in one thing called reddit"
   ],
   "cell_type": "markdown",
   "metadata": {}
  },
  {
   "cell_type": "code",
   "execution_count": 15,
   "metadata": {},
   "outputs": [],
   "source": [
    "reddit = praw.Reddit(\n",
    "    client_id= c.client_id,\n",
    "    client_secret = c.client_secret,\n",
    "    user_agent = c.user_agent,\n",
    "    username= c.username,\n",
    "    password= c.password\n",
    ")"
   ]
  },
  {
   "source": [
    "## Load all subreddit submissions into  list and turn that into a dataframe"
   ],
   "cell_type": "markdown",
   "metadata": {}
  },
  {
   "cell_type": "code",
   "execution_count": 16,
   "metadata": {},
   "outputs": [],
   "source": [
    "#save opening day 2018 as a unix timestamp\n",
    "opening_day_2018 = pd.to_datetime('2018-10-03')\n",
    "\n",
    "posts = [] #create empty list for posts\n",
    "\n",
    "#look up the \"nhl\" subreddit on opening day 2018 and search extra terms\n",
    "nhl_subreddit = reddit.subreddit('sportsbook')\n",
    "\n",
    "\n",
    "#use a slick loop to load each entry and its elements into you \"posts\" list\n",
    "    #note: just change the limit to anything under 1,000 and you'll get tons of things\n",
    "for post in nhl_subreddit.search('hockey',sort='new', time_filter='day',limit=5):\n",
    "    posts.append([post.title, post.score, post.id, post.subreddit, post.url, post.num_comments, post.selftext, post.created])\n",
    "\n",
    "#turn posts into a DataFrame\n",
    "posts = pd.DataFrame(posts,columns=['title', 'score', 'id', 'subreddit', 'url', 'num_comments', 'body', 'created'])"
   ]
  },
  {
   "cell_type": "code",
   "execution_count": 17,
   "metadata": {},
   "outputs": [
    {
     "output_type": "execute_result",
     "data": {
      "text/plain": [
       "                                     title  score      id   subreddit  \\\n",
       "0  NHL Daily Discussion - 3/19/21 (Friday)     18  m877ox  sportsbook   \n",
       "\n",
       "                                                 url  num_comments  \\\n",
       "0  https://www.reddit.com/r/sportsbook/comments/m...            25   \n",
       "\n",
       "                                                body             created  \n",
       "0  For NHL **and** world hockey. Hockey Chat: htt... 2021-03-19 10:30:56  "
      ],
      "text/html": "<div>\n<style scoped>\n    .dataframe tbody tr th:only-of-type {\n        vertical-align: middle;\n    }\n\n    .dataframe tbody tr th {\n        vertical-align: top;\n    }\n\n    .dataframe thead th {\n        text-align: right;\n    }\n</style>\n<table border=\"1\" class=\"dataframe\">\n  <thead>\n    <tr style=\"text-align: right;\">\n      <th></th>\n      <th>title</th>\n      <th>score</th>\n      <th>id</th>\n      <th>subreddit</th>\n      <th>url</th>\n      <th>num_comments</th>\n      <th>body</th>\n      <th>created</th>\n    </tr>\n  </thead>\n  <tbody>\n    <tr>\n      <th>0</th>\n      <td>NHL Daily Discussion - 3/19/21 (Friday)</td>\n      <td>18</td>\n      <td>m877ox</td>\n      <td>sportsbook</td>\n      <td>https://www.reddit.com/r/sportsbook/comments/m...</td>\n      <td>25</td>\n      <td>For NHL **and** world hockey. Hockey Chat: htt...</td>\n      <td>2021-03-19 10:30:56</td>\n    </tr>\n  </tbody>\n</table>\n</div>"
     },
     "metadata": {},
     "execution_count": 17
    }
   ],
   "source": [
    "#Change 'created' column from Unix to datetime so it looks normal\n",
    "posts['created'] = pd.to_datetime(posts['created'], unit='s')\n",
    "#print a bit of the df to see if it looks ok\n",
    "posts.head()"
   ]
  },
  {
   "source": [
    "## Take all the comments from these submissions and throw them into a separate dataframe"
   ],
   "cell_type": "markdown",
   "metadata": {}
  },
  {
   "cell_type": "code",
   "execution_count": 18,
   "metadata": {},
   "outputs": [
    {
     "output_type": "execute_result",
     "data": {
      "text/plain": [
       "                           submission_title submission_id  score comment_id  \\\n",
       "0   NHL Daily Discussion - 3/19/21 (Friday)        m877ox      1    grfs99g   \n",
       "1   NHL Daily Discussion - 3/19/21 (Friday)        m877ox      3    grgitm5   \n",
       "2   NHL Daily Discussion - 3/19/21 (Friday)        m877ox      4    grh2nlx   \n",
       "3   NHL Daily Discussion - 3/19/21 (Friday)        m877ox      4    grh8f3l   \n",
       "4   NHL Daily Discussion - 3/19/21 (Friday)        m877ox      4    grhfu7b   \n",
       "\n",
       "    subreddit                                                url  \\\n",
       "0  sportsbook  https://www.reddit.com/r/sportsbook/comments/m...   \n",
       "1  sportsbook  https://www.reddit.com/r/sportsbook/comments/m...   \n",
       "2  sportsbook  https://www.reddit.com/r/sportsbook/comments/m...   \n",
       "3  sportsbook  https://www.reddit.com/r/sportsbook/comments/m...   \n",
       "4  sportsbook  https://www.reddit.com/r/sportsbook/comments/m...   \n",
       "\n",
       "         num_comments                                               body  \\\n",
       "0                  ()  Hockey Live Chat: **https://discord.gg/sportsb...   \n",
       "1                  ()  Maple Leafs ML, NY Rangers ML, Canadiens ML, S...   \n",
       "2  (grh2t8f, gri3cy0)  Record: 8-4\\n\\nPick: **MTL Canadiens in Reg -1...   \n",
       "3                  ()  Capitals are on a win streak  and generally pl...   \n",
       "4                  ()  **NHL Freezer Machine Learning 3-Way Model**\\n...   \n",
       "\n",
       "              created  \n",
       "0 2021-03-19 02:30:56  \n",
       "1 2021-03-19 07:50:45  \n",
       "2 2021-03-19 12:42:32  \n",
       "3 2021-03-19 13:37:24  \n",
       "4 2021-03-19 14:39:01  "
      ],
      "text/html": "<div>\n<style scoped>\n    .dataframe tbody tr th:only-of-type {\n        vertical-align: middle;\n    }\n\n    .dataframe tbody tr th {\n        vertical-align: top;\n    }\n\n    .dataframe thead th {\n        text-align: right;\n    }\n</style>\n<table border=\"1\" class=\"dataframe\">\n  <thead>\n    <tr style=\"text-align: right;\">\n      <th></th>\n      <th>submission_title</th>\n      <th>submission_id</th>\n      <th>score</th>\n      <th>comment_id</th>\n      <th>subreddit</th>\n      <th>url</th>\n      <th>num_comments</th>\n      <th>body</th>\n      <th>created</th>\n    </tr>\n  </thead>\n  <tbody>\n    <tr>\n      <th>0</th>\n      <td>NHL Daily Discussion - 3/19/21 (Friday)</td>\n      <td>m877ox</td>\n      <td>1</td>\n      <td>grfs99g</td>\n      <td>sportsbook</td>\n      <td>https://www.reddit.com/r/sportsbook/comments/m...</td>\n      <td>()</td>\n      <td>Hockey Live Chat: **https://discord.gg/sportsb...</td>\n      <td>2021-03-19 02:30:56</td>\n    </tr>\n    <tr>\n      <th>1</th>\n      <td>NHL Daily Discussion - 3/19/21 (Friday)</td>\n      <td>m877ox</td>\n      <td>3</td>\n      <td>grgitm5</td>\n      <td>sportsbook</td>\n      <td>https://www.reddit.com/r/sportsbook/comments/m...</td>\n      <td>()</td>\n      <td>Maple Leafs ML, NY Rangers ML, Canadiens ML, S...</td>\n      <td>2021-03-19 07:50:45</td>\n    </tr>\n    <tr>\n      <th>2</th>\n      <td>NHL Daily Discussion - 3/19/21 (Friday)</td>\n      <td>m877ox</td>\n      <td>4</td>\n      <td>grh2nlx</td>\n      <td>sportsbook</td>\n      <td>https://www.reddit.com/r/sportsbook/comments/m...</td>\n      <td>(grh2t8f, gri3cy0)</td>\n      <td>Record: 8-4\\n\\nPick: **MTL Canadiens in Reg -1...</td>\n      <td>2021-03-19 12:42:32</td>\n    </tr>\n    <tr>\n      <th>3</th>\n      <td>NHL Daily Discussion - 3/19/21 (Friday)</td>\n      <td>m877ox</td>\n      <td>4</td>\n      <td>grh8f3l</td>\n      <td>sportsbook</td>\n      <td>https://www.reddit.com/r/sportsbook/comments/m...</td>\n      <td>()</td>\n      <td>Capitals are on a win streak  and generally pl...</td>\n      <td>2021-03-19 13:37:24</td>\n    </tr>\n    <tr>\n      <th>4</th>\n      <td>NHL Daily Discussion - 3/19/21 (Friday)</td>\n      <td>m877ox</td>\n      <td>4</td>\n      <td>grhfu7b</td>\n      <td>sportsbook</td>\n      <td>https://www.reddit.com/r/sportsbook/comments/m...</td>\n      <td>()</td>\n      <td>**NHL Freezer Machine Learning 3-Way Model**\\n...</td>\n      <td>2021-03-19 14:39:01</td>\n    </tr>\n  </tbody>\n</table>\n</div>"
     },
     "metadata": {},
     "execution_count": 18
    }
   ],
   "source": [
    "#get all comments from each submission and make into a list\n",
    "comments_list = [] \n",
    "for url in posts.url:\n",
    "    #get save submission title as variable\n",
    "    submission_title = posts.loc[posts['url'] == url,'title'].to_string(index=False)\n",
    "    \n",
    "    #then get all the comments\n",
    "    submission = reddit.submission(url=url)\n",
    "    submission.comments.replace_more(limit=0)\n",
    "    \n",
    "\n",
    "    for top_level_comment in submission.comments.list():\n",
    "        comments_list.append([submission_title, top_level_comment.submission, top_level_comment.score, top_level_comment.id, top_level_comment.subreddit, 'https://www.reddit.com' + top_level_comment.permalink, top_level_comment.replies, top_level_comment.body, top_level_comment.created_utc])\n",
    "    \n",
    "comments_df = pd.DataFrame(comments_list,columns=['submission_title', 'submission_id', 'score', 'comment_id', 'subreddit', 'url', 'num_comments', 'body', 'created'])\n",
    "#change 'created' into datetime dates\n",
    "comments_df['created'] = pd.to_datetime(comments_df['created'], unit='s')\n",
    "\n",
    "comments_df.head()"
   ]
  },
  {
   "cell_type": "code",
   "execution_count": null,
   "metadata": {},
   "outputs": [],
   "source": []
  }
 ]
}