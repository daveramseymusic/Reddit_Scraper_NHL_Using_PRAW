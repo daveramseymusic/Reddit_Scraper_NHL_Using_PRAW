{
 "metadata": {
  "language_info": {
   "codemirror_mode": {
    "name": "ipython",
    "version": 3
   },
   "file_extension": ".py",
   "mimetype": "text/x-python",
   "name": "python",
   "nbconvert_exporter": "python",
   "pygments_lexer": "ipython3",
   "version": "3.7.6-final"
  },
  "orig_nbformat": 2,
  "kernelspec": {
   "name": "python3",
   "display_name": "Python 3",
   "language": "python"
  }
 },
 "nbformat": 4,
 "nbformat_minor": 2,
 "cells": [
  {
   "cell_type": "code",
   "execution_count": 104,
   "metadata": {},
   "outputs": [],
   "source": [
    "#import packages\n",
    "import pandas as pd\n",
    "import praw\n",
    "from psaw import PushshiftAPI\n",
    "import config as c\n",
    "import datetime as dt"
   ]
  },
  {
   "cell_type": "code",
   "execution_count": 91,
   "metadata": {},
   "outputs": [],
   "source": [
    "# save your praw/reddit info\n",
    "r = praw.Reddit(\n",
    "    client_id= c.client_id,\n",
    "    client_secret = c.client_secret,\n",
    "    user_agent = c.user_agent,\n",
    "    username= c.username,\n",
    "    password= c.password\n",
    ")\n",
    "api = PushshiftAPI()"
   ]
  },
  {
   "source": [
    "### collect 10 subreddits posted on June 3rd 2015 before Noon save as 'gen'"
   ],
   "cell_type": "markdown",
   "metadata": {}
  },
  {
   "cell_type": "code",
   "execution_count": 134,
   "metadata": {},
   "outputs": [],
   "source": [
    "#search for all over/unders used for day of nhl final 1015\n",
    "start_epoch=int(dt.datetime(2015, 6, 3).timestamp())\n",
    "end_epoch=int(dt.datetime(2015, 6, 3,12).timestamp())\n",
    "\n",
    "gen = list(api.search_submissions(after=start_epoch,\n",
    "                            before=end_epoch,\n",
    "                            subreddit='sportsbook',\n",
    "                            filter=['url','author', 'title', 'subreddit'],\n",
    "                            limit=10))\n"
   ]
  },
  {
   "source": [
    "### turn gen into a Data Frame"
   ],
   "cell_type": "markdown",
   "metadata": {}
  },
  {
   "cell_type": "code",
   "execution_count": 136,
   "metadata": {},
   "outputs": [],
   "source": [
    "df = pd.DataFrame([thing.d_ for thing in gen])"
   ]
  },
  {
   "source": [
    "### convert UTC columns into datetime then print"
   ],
   "cell_type": "markdown",
   "metadata": {}
  },
  {
   "cell_type": "code",
   "execution_count": 138,
   "metadata": {},
   "outputs": [
    {
     "output_type": "execute_result",
     "data": {
      "text/plain": [
       "       author         created_utc   subreddit  \\\n",
       "0        rs1x 2015-06-03 09:59:35  sportsbook   \n",
       "1   [deleted] 2015-06-03 06:54:26  sportsbook   \n",
       "2    noob_bob 2015-06-03 06:02:52  sportsbook   \n",
       "3  murrayyyyy 2015-06-03 04:36:27  sportsbook   \n",
       "\n",
       "                                           title  \\\n",
       "0                 MLB Daily - 6/3/15 (Wednesday)   \n",
       "1         Curry Finals MVP vs GS winning Series?   \n",
       "2  Question: Is there a nice source of MLB data?   \n",
       "3              Sportsbook Golf Contest MLB Day 3   \n",
       "\n",
       "                                                 url             created  \n",
       "0  http://www.reddit.com/r/sportsbook/comments/38... 2015-06-03 13:59:35  \n",
       "1  http://www.reddit.com/r/sportsbook/comments/38... 2015-06-03 10:54:26  \n",
       "2  http://www.reddit.com/r/sportsbook/comments/38... 2015-06-03 10:02:52  \n",
       "3  http://www.reddit.com/r/sportsbook/comments/38... 2015-06-03 08:36:27  "
      ],
      "text/html": "<div>\n<style scoped>\n    .dataframe tbody tr th:only-of-type {\n        vertical-align: middle;\n    }\n\n    .dataframe tbody tr th {\n        vertical-align: top;\n    }\n\n    .dataframe thead th {\n        text-align: right;\n    }\n</style>\n<table border=\"1\" class=\"dataframe\">\n  <thead>\n    <tr style=\"text-align: right;\">\n      <th></th>\n      <th>author</th>\n      <th>created_utc</th>\n      <th>subreddit</th>\n      <th>title</th>\n      <th>url</th>\n      <th>created</th>\n    </tr>\n  </thead>\n  <tbody>\n    <tr>\n      <th>0</th>\n      <td>rs1x</td>\n      <td>2015-06-03 09:59:35</td>\n      <td>sportsbook</td>\n      <td>MLB Daily - 6/3/15 (Wednesday)</td>\n      <td>http://www.reddit.com/r/sportsbook/comments/38...</td>\n      <td>2015-06-03 13:59:35</td>\n    </tr>\n    <tr>\n      <th>1</th>\n      <td>[deleted]</td>\n      <td>2015-06-03 06:54:26</td>\n      <td>sportsbook</td>\n      <td>Curry Finals MVP vs GS winning Series?</td>\n      <td>http://www.reddit.com/r/sportsbook/comments/38...</td>\n      <td>2015-06-03 10:54:26</td>\n    </tr>\n    <tr>\n      <th>2</th>\n      <td>noob_bob</td>\n      <td>2015-06-03 06:02:52</td>\n      <td>sportsbook</td>\n      <td>Question: Is there a nice source of MLB data?</td>\n      <td>http://www.reddit.com/r/sportsbook/comments/38...</td>\n      <td>2015-06-03 10:02:52</td>\n    </tr>\n    <tr>\n      <th>3</th>\n      <td>murrayyyyy</td>\n      <td>2015-06-03 04:36:27</td>\n      <td>sportsbook</td>\n      <td>Sportsbook Golf Contest MLB Day 3</td>\n      <td>http://www.reddit.com/r/sportsbook/comments/38...</td>\n      <td>2015-06-03 08:36:27</td>\n    </tr>\n  </tbody>\n</table>\n</div>"
     },
     "metadata": {},
     "execution_count": 138
    }
   ],
   "source": [
    "# change utc_times into datetime\n",
    "df.created_utc = pd.to_datetime(df.created_utc, unit='s')\n",
    "df.created = pd.to_datetime(df.created, unit='s')\n",
    "# print the \n",
    "df"
   ]
  },
  {
   "cell_type": "code",
   "execution_count": null,
   "metadata": {},
   "outputs": [],
   "source": []
  }
 ]
}